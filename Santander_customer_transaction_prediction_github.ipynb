{
  "nbformat": 4,
  "nbformat_minor": 0,
  "metadata": {
    "colab": {
      "name": "Santander_customer_transaction_prediction_github.ipynb",
      "provenance": [],
      "collapsed_sections": [],
      "machine_shape": "hm",
      "include_colab_link": true
    },
    "kernelspec": {
      "name": "python3",
      "display_name": "Python 3"
    },
    "language_info": {
      "name": "python"
    }
  },
  "cells": [
    {
      "cell_type": "markdown",
      "metadata": {
        "id": "view-in-github",
        "colab_type": "text"
      },
      "source": [
        "<a href=\"https://colab.research.google.com/github/chiardy90/Santander_customer_transaction_prediction/blob/main/Santander_customer_transaction_prediction_github.ipynb\" target=\"_parent\"><img src=\"https://colab.research.google.com/assets/colab-badge.svg\" alt=\"Open In Colab\"/></a>"
      ]
    },
    {
      "cell_type": "markdown",
      "source": [
        "# Santander customer transaction prediction \n",
        "Please download this file first\n",
        "* [[Kaggle Link](https://www.kaggle.com/c/santander-customer-transaction-prediction/data)]"
      ],
      "metadata": {
        "id": "vE1flz3DEcxS"
      }
    },
    {
      "cell_type": "markdown",
      "source": [
        "## Step: 0"
      ],
      "metadata": {
        "id": "1WexjKiQgbd0"
      }
    },
    {
      "cell_type": "code",
      "source": [
        "from google.colab import drive\n",
        "drive.mount('/content/drive')"
      ],
      "metadata": {
        "id": "XTSrMIVhhvmu"
      },
      "execution_count": null,
      "outputs": []
    },
    {
      "cell_type": "code",
      "source": [
        "! ls drive/MyDrive/Colab_Notebooks/Santander_Customer_Transaction_Prediction"
      ],
      "metadata": {
        "id": "IcB1xO_khX4U"
      },
      "execution_count": null,
      "outputs": []
    },
    {
      "cell_type": "code",
      "source": [
        "! cp drive/MyDrive/Colab_Notebooks/Santander_Customer_Transaction_Prediction/train.csv ./\n",
        "! cp drive/MyDrive/Colab_Notebooks/Santander_Customer_Transaction_Prediction/test.csv ./\n",
        "! cp drive/MyDrive/Colab_Notebooks/Santander_Customer_Transaction_Prediction/sample_submission.csv ./\n"
      ],
      "metadata": {
        "id": "_8zgnr5Li7qv"
      },
      "execution_count": null,
      "outputs": []
    },
    {
      "cell_type": "markdown",
      "source": [
        "## Step: 1：Read CSV"
      ],
      "metadata": {
        "id": "SBCsjV8cFG4P"
      }
    },
    {
      "cell_type": "code",
      "execution_count": null,
      "metadata": {
        "id": "AdtSHt3HD9L6",
        "colab": {
          "base_uri": "https://localhost:8080/",
          "height": 299
        },
        "outputId": "13efbea7-10ad-486e-a3a6-7ccba877fb24"
      },
      "outputs": [
        {
          "output_type": "execute_result",
          "data": {
            "text/plain": [
              "   ID_code  target    var_0   var_1    var_2   var_3    var_4   var_5   var_6  \\\n",
              "0  train_0       0   8.9255 -6.7863  11.9081  5.0930  11.4607 -9.2834  5.1187   \n",
              "1  train_1       0  11.5006 -4.1473  13.8588  5.3890  12.3622  7.0433  5.6208   \n",
              "2  train_2       0   8.6093 -2.7457  12.0805  7.8928  10.5825 -9.0837  6.9427   \n",
              "3  train_3       0  11.0604 -2.1518   8.9522  7.1957  12.5846 -1.8361  5.8428   \n",
              "4  train_4       0   9.8369 -1.4834  12.8746  6.6375  12.2772  2.4486  5.9405   \n",
              "\n",
              "     var_7  ...  var_190  var_191  var_192  var_193  var_194  var_195  \\\n",
              "0  18.6266  ...   4.4354   3.9642   3.1364   1.6910  18.5227  -2.3978   \n",
              "1  16.5338  ...   7.6421   7.7214   2.5837  10.9516  15.4305   2.0339   \n",
              "2  14.6155  ...   2.9057   9.7905   1.6704   1.6858  21.6042   3.1417   \n",
              "3  14.9250  ...   4.4666   4.7433   0.7178   1.4214  23.0347  -1.2706   \n",
              "4  19.2514  ...  -1.4905   9.5214  -0.1508   9.1942  13.2876  -1.5121   \n",
              "\n",
              "   var_196  var_197  var_198  var_199  \n",
              "0   7.8784   8.5635  12.7803  -1.0914  \n",
              "1   8.1267   8.7889  18.3560   1.9518  \n",
              "2  -6.5213   8.2675  14.7222   0.3965  \n",
              "3  -2.9275  10.2922  17.9697  -8.9996  \n",
              "4   3.9267   9.5031  17.9974  -8.8104  \n",
              "\n",
              "[5 rows x 202 columns]"
            ],
            "text/html": [
              "\n",
              "  <div id=\"df-5bc1dc8e-4959-48db-a585-cccc3ed57e1e\">\n",
              "    <div class=\"colab-df-container\">\n",
              "      <div>\n",
              "<style scoped>\n",
              "    .dataframe tbody tr th:only-of-type {\n",
              "        vertical-align: middle;\n",
              "    }\n",
              "\n",
              "    .dataframe tbody tr th {\n",
              "        vertical-align: top;\n",
              "    }\n",
              "\n",
              "    .dataframe thead th {\n",
              "        text-align: right;\n",
              "    }\n",
              "</style>\n",
              "<table border=\"1\" class=\"dataframe\">\n",
              "  <thead>\n",
              "    <tr style=\"text-align: right;\">\n",
              "      <th></th>\n",
              "      <th>ID_code</th>\n",
              "      <th>target</th>\n",
              "      <th>var_0</th>\n",
              "      <th>var_1</th>\n",
              "      <th>var_2</th>\n",
              "      <th>var_3</th>\n",
              "      <th>var_4</th>\n",
              "      <th>var_5</th>\n",
              "      <th>var_6</th>\n",
              "      <th>var_7</th>\n",
              "      <th>...</th>\n",
              "      <th>var_190</th>\n",
              "      <th>var_191</th>\n",
              "      <th>var_192</th>\n",
              "      <th>var_193</th>\n",
              "      <th>var_194</th>\n",
              "      <th>var_195</th>\n",
              "      <th>var_196</th>\n",
              "      <th>var_197</th>\n",
              "      <th>var_198</th>\n",
              "      <th>var_199</th>\n",
              "    </tr>\n",
              "  </thead>\n",
              "  <tbody>\n",
              "    <tr>\n",
              "      <th>0</th>\n",
              "      <td>train_0</td>\n",
              "      <td>0</td>\n",
              "      <td>8.9255</td>\n",
              "      <td>-6.7863</td>\n",
              "      <td>11.9081</td>\n",
              "      <td>5.0930</td>\n",
              "      <td>11.4607</td>\n",
              "      <td>-9.2834</td>\n",
              "      <td>5.1187</td>\n",
              "      <td>18.6266</td>\n",
              "      <td>...</td>\n",
              "      <td>4.4354</td>\n",
              "      <td>3.9642</td>\n",
              "      <td>3.1364</td>\n",
              "      <td>1.6910</td>\n",
              "      <td>18.5227</td>\n",
              "      <td>-2.3978</td>\n",
              "      <td>7.8784</td>\n",
              "      <td>8.5635</td>\n",
              "      <td>12.7803</td>\n",
              "      <td>-1.0914</td>\n",
              "    </tr>\n",
              "    <tr>\n",
              "      <th>1</th>\n",
              "      <td>train_1</td>\n",
              "      <td>0</td>\n",
              "      <td>11.5006</td>\n",
              "      <td>-4.1473</td>\n",
              "      <td>13.8588</td>\n",
              "      <td>5.3890</td>\n",
              "      <td>12.3622</td>\n",
              "      <td>7.0433</td>\n",
              "      <td>5.6208</td>\n",
              "      <td>16.5338</td>\n",
              "      <td>...</td>\n",
              "      <td>7.6421</td>\n",
              "      <td>7.7214</td>\n",
              "      <td>2.5837</td>\n",
              "      <td>10.9516</td>\n",
              "      <td>15.4305</td>\n",
              "      <td>2.0339</td>\n",
              "      <td>8.1267</td>\n",
              "      <td>8.7889</td>\n",
              "      <td>18.3560</td>\n",
              "      <td>1.9518</td>\n",
              "    </tr>\n",
              "    <tr>\n",
              "      <th>2</th>\n",
              "      <td>train_2</td>\n",
              "      <td>0</td>\n",
              "      <td>8.6093</td>\n",
              "      <td>-2.7457</td>\n",
              "      <td>12.0805</td>\n",
              "      <td>7.8928</td>\n",
              "      <td>10.5825</td>\n",
              "      <td>-9.0837</td>\n",
              "      <td>6.9427</td>\n",
              "      <td>14.6155</td>\n",
              "      <td>...</td>\n",
              "      <td>2.9057</td>\n",
              "      <td>9.7905</td>\n",
              "      <td>1.6704</td>\n",
              "      <td>1.6858</td>\n",
              "      <td>21.6042</td>\n",
              "      <td>3.1417</td>\n",
              "      <td>-6.5213</td>\n",
              "      <td>8.2675</td>\n",
              "      <td>14.7222</td>\n",
              "      <td>0.3965</td>\n",
              "    </tr>\n",
              "    <tr>\n",
              "      <th>3</th>\n",
              "      <td>train_3</td>\n",
              "      <td>0</td>\n",
              "      <td>11.0604</td>\n",
              "      <td>-2.1518</td>\n",
              "      <td>8.9522</td>\n",
              "      <td>7.1957</td>\n",
              "      <td>12.5846</td>\n",
              "      <td>-1.8361</td>\n",
              "      <td>5.8428</td>\n",
              "      <td>14.9250</td>\n",
              "      <td>...</td>\n",
              "      <td>4.4666</td>\n",
              "      <td>4.7433</td>\n",
              "      <td>0.7178</td>\n",
              "      <td>1.4214</td>\n",
              "      <td>23.0347</td>\n",
              "      <td>-1.2706</td>\n",
              "      <td>-2.9275</td>\n",
              "      <td>10.2922</td>\n",
              "      <td>17.9697</td>\n",
              "      <td>-8.9996</td>\n",
              "    </tr>\n",
              "    <tr>\n",
              "      <th>4</th>\n",
              "      <td>train_4</td>\n",
              "      <td>0</td>\n",
              "      <td>9.8369</td>\n",
              "      <td>-1.4834</td>\n",
              "      <td>12.8746</td>\n",
              "      <td>6.6375</td>\n",
              "      <td>12.2772</td>\n",
              "      <td>2.4486</td>\n",
              "      <td>5.9405</td>\n",
              "      <td>19.2514</td>\n",
              "      <td>...</td>\n",
              "      <td>-1.4905</td>\n",
              "      <td>9.5214</td>\n",
              "      <td>-0.1508</td>\n",
              "      <td>9.1942</td>\n",
              "      <td>13.2876</td>\n",
              "      <td>-1.5121</td>\n",
              "      <td>3.9267</td>\n",
              "      <td>9.5031</td>\n",
              "      <td>17.9974</td>\n",
              "      <td>-8.8104</td>\n",
              "    </tr>\n",
              "  </tbody>\n",
              "</table>\n",
              "<p>5 rows × 202 columns</p>\n",
              "</div>\n",
              "      <button class=\"colab-df-convert\" onclick=\"convertToInteractive('df-5bc1dc8e-4959-48db-a585-cccc3ed57e1e')\"\n",
              "              title=\"Convert this dataframe to an interactive table.\"\n",
              "              style=\"display:none;\">\n",
              "        \n",
              "  <svg xmlns=\"http://www.w3.org/2000/svg\" height=\"24px\"viewBox=\"0 0 24 24\"\n",
              "       width=\"24px\">\n",
              "    <path d=\"M0 0h24v24H0V0z\" fill=\"none\"/>\n",
              "    <path d=\"M18.56 5.44l.94 2.06.94-2.06 2.06-.94-2.06-.94-.94-2.06-.94 2.06-2.06.94zm-11 1L8.5 8.5l.94-2.06 2.06-.94-2.06-.94L8.5 2.5l-.94 2.06-2.06.94zm10 10l.94 2.06.94-2.06 2.06-.94-2.06-.94-.94-2.06-.94 2.06-2.06.94z\"/><path d=\"M17.41 7.96l-1.37-1.37c-.4-.4-.92-.59-1.43-.59-.52 0-1.04.2-1.43.59L10.3 9.45l-7.72 7.72c-.78.78-.78 2.05 0 2.83L4 21.41c.39.39.9.59 1.41.59.51 0 1.02-.2 1.41-.59l7.78-7.78 2.81-2.81c.8-.78.8-2.07 0-2.86zM5.41 20L4 18.59l7.72-7.72 1.47 1.35L5.41 20z\"/>\n",
              "  </svg>\n",
              "      </button>\n",
              "      \n",
              "  <style>\n",
              "    .colab-df-container {\n",
              "      display:flex;\n",
              "      flex-wrap:wrap;\n",
              "      gap: 12px;\n",
              "    }\n",
              "\n",
              "    .colab-df-convert {\n",
              "      background-color: #E8F0FE;\n",
              "      border: none;\n",
              "      border-radius: 50%;\n",
              "      cursor: pointer;\n",
              "      display: none;\n",
              "      fill: #1967D2;\n",
              "      height: 32px;\n",
              "      padding: 0 0 0 0;\n",
              "      width: 32px;\n",
              "    }\n",
              "\n",
              "    .colab-df-convert:hover {\n",
              "      background-color: #E2EBFA;\n",
              "      box-shadow: 0px 1px 2px rgba(60, 64, 67, 0.3), 0px 1px 3px 1px rgba(60, 64, 67, 0.15);\n",
              "      fill: #174EA6;\n",
              "    }\n",
              "\n",
              "    [theme=dark] .colab-df-convert {\n",
              "      background-color: #3B4455;\n",
              "      fill: #D2E3FC;\n",
              "    }\n",
              "\n",
              "    [theme=dark] .colab-df-convert:hover {\n",
              "      background-color: #434B5C;\n",
              "      box-shadow: 0px 1px 3px 1px rgba(0, 0, 0, 0.15);\n",
              "      filter: drop-shadow(0px 1px 2px rgba(0, 0, 0, 0.3));\n",
              "      fill: #FFFFFF;\n",
              "    }\n",
              "  </style>\n",
              "\n",
              "      <script>\n",
              "        const buttonEl =\n",
              "          document.querySelector('#df-5bc1dc8e-4959-48db-a585-cccc3ed57e1e button.colab-df-convert');\n",
              "        buttonEl.style.display =\n",
              "          google.colab.kernel.accessAllowed ? 'block' : 'none';\n",
              "\n",
              "        async function convertToInteractive(key) {\n",
              "          const element = document.querySelector('#df-5bc1dc8e-4959-48db-a585-cccc3ed57e1e');\n",
              "          const dataTable =\n",
              "            await google.colab.kernel.invokeFunction('convertToInteractive',\n",
              "                                                     [key], {});\n",
              "          if (!dataTable) return;\n",
              "\n",
              "          const docLinkHtml = 'Like what you see? Visit the ' +\n",
              "            '<a target=\"_blank\" href=https://colab.research.google.com/notebooks/data_table.ipynb>data table notebook</a>'\n",
              "            + ' to learn more about interactive tables.';\n",
              "          element.innerHTML = '';\n",
              "          dataTable['output_type'] = 'display_data';\n",
              "          await google.colab.output.renderOutput(dataTable, element);\n",
              "          const docLink = document.createElement('div');\n",
              "          docLink.innerHTML = docLinkHtml;\n",
              "          element.appendChild(docLink);\n",
              "        }\n",
              "      </script>\n",
              "    </div>\n",
              "  </div>\n",
              "  "
            ]
          },
          "metadata": {},
          "execution_count": 16
        }
      ],
      "source": [
        "import pandas as pd\n",
        "\n",
        "Dataset = pd.read_csv(\"train.csv\")\n",
        "\n",
        "Dataset.head()"
      ]
    },
    {
      "cell_type": "markdown",
      "source": [
        "## Step: 2：Data Visualization and Feature Engineering.\n"
      ],
      "metadata": {
        "id": "f8zJUJODFOU0"
      }
    },
    {
      "cell_type": "code",
      "source": [
        "# note：enumerate(), Dataset.columns, isnull(), sum()\n",
        "\n",
        "# cheak NaN\n",
        "for index, col in enumerate(Dataset.columns):\n",
        "  print(f\"第{index+1}個欄位(i.e., {col}) 的缺失值有{Dataset[col].isnull().sum()}筆\")"
      ],
      "metadata": {
        "colab": {
          "base_uri": "https://localhost:8080/"
        },
        "id": "ikJCGgBbE-c9",
        "outputId": "d7e83d73-a35e-4923-f470-38c053c559d9"
      },
      "execution_count": null,
      "outputs": [
        {
          "output_type": "stream",
          "name": "stdout",
          "text": [
            "第1個欄位(i.e., ID_code) 的缺失值有0筆\n",
            "第2個欄位(i.e., target) 的缺失值有0筆\n",
            "第3個欄位(i.e., var_0) 的缺失值有0筆\n",
            "第4個欄位(i.e., var_1) 的缺失值有0筆\n",
            "第5個欄位(i.e., var_2) 的缺失值有0筆\n",
            "第6個欄位(i.e., var_3) 的缺失值有0筆\n",
            "第7個欄位(i.e., var_4) 的缺失值有0筆\n",
            "第8個欄位(i.e., var_5) 的缺失值有0筆\n",
            "第9個欄位(i.e., var_6) 的缺失值有0筆\n",
            "第10個欄位(i.e., var_7) 的缺失值有0筆\n",
            "第11個欄位(i.e., var_8) 的缺失值有0筆\n",
            "第12個欄位(i.e., var_9) 的缺失值有0筆\n",
            "第13個欄位(i.e., var_10) 的缺失值有0筆\n",
            "第14個欄位(i.e., var_11) 的缺失值有0筆\n",
            "第15個欄位(i.e., var_12) 的缺失值有0筆\n",
            "第16個欄位(i.e., var_13) 的缺失值有0筆\n",
            "第17個欄位(i.e., var_14) 的缺失值有0筆\n",
            "第18個欄位(i.e., var_15) 的缺失值有0筆\n",
            "第19個欄位(i.e., var_16) 的缺失值有0筆\n",
            "第20個欄位(i.e., var_17) 的缺失值有0筆\n",
            "第21個欄位(i.e., var_18) 的缺失值有0筆\n",
            "第22個欄位(i.e., var_19) 的缺失值有0筆\n",
            "第23個欄位(i.e., var_20) 的缺失值有0筆\n",
            "第24個欄位(i.e., var_21) 的缺失值有0筆\n",
            "第25個欄位(i.e., var_22) 的缺失值有0筆\n",
            "第26個欄位(i.e., var_23) 的缺失值有0筆\n",
            "第27個欄位(i.e., var_24) 的缺失值有0筆\n",
            "第28個欄位(i.e., var_25) 的缺失值有0筆\n",
            "第29個欄位(i.e., var_26) 的缺失值有0筆\n",
            "第30個欄位(i.e., var_27) 的缺失值有0筆\n",
            "第31個欄位(i.e., var_28) 的缺失值有0筆\n",
            "第32個欄位(i.e., var_29) 的缺失值有0筆\n",
            "第33個欄位(i.e., var_30) 的缺失值有0筆\n",
            "第34個欄位(i.e., var_31) 的缺失值有0筆\n",
            "第35個欄位(i.e., var_32) 的缺失值有0筆\n",
            "第36個欄位(i.e., var_33) 的缺失值有0筆\n",
            "第37個欄位(i.e., var_34) 的缺失值有0筆\n",
            "第38個欄位(i.e., var_35) 的缺失值有0筆\n",
            "第39個欄位(i.e., var_36) 的缺失值有0筆\n",
            "第40個欄位(i.e., var_37) 的缺失值有0筆\n",
            "第41個欄位(i.e., var_38) 的缺失值有0筆\n",
            "第42個欄位(i.e., var_39) 的缺失值有0筆\n",
            "第43個欄位(i.e., var_40) 的缺失值有0筆\n",
            "第44個欄位(i.e., var_41) 的缺失值有0筆\n",
            "第45個欄位(i.e., var_42) 的缺失值有0筆\n",
            "第46個欄位(i.e., var_43) 的缺失值有0筆\n",
            "第47個欄位(i.e., var_44) 的缺失值有0筆\n",
            "第48個欄位(i.e., var_45) 的缺失值有0筆\n",
            "第49個欄位(i.e., var_46) 的缺失值有0筆\n",
            "第50個欄位(i.e., var_47) 的缺失值有0筆\n",
            "第51個欄位(i.e., var_48) 的缺失值有0筆\n",
            "第52個欄位(i.e., var_49) 的缺失值有0筆\n",
            "第53個欄位(i.e., var_50) 的缺失值有0筆\n",
            "第54個欄位(i.e., var_51) 的缺失值有0筆\n",
            "第55個欄位(i.e., var_52) 的缺失值有0筆\n",
            "第56個欄位(i.e., var_53) 的缺失值有0筆\n",
            "第57個欄位(i.e., var_54) 的缺失值有0筆\n",
            "第58個欄位(i.e., var_55) 的缺失值有0筆\n",
            "第59個欄位(i.e., var_56) 的缺失值有0筆\n",
            "第60個欄位(i.e., var_57) 的缺失值有0筆\n",
            "第61個欄位(i.e., var_58) 的缺失值有0筆\n",
            "第62個欄位(i.e., var_59) 的缺失值有0筆\n",
            "第63個欄位(i.e., var_60) 的缺失值有0筆\n",
            "第64個欄位(i.e., var_61) 的缺失值有0筆\n",
            "第65個欄位(i.e., var_62) 的缺失值有0筆\n",
            "第66個欄位(i.e., var_63) 的缺失值有0筆\n",
            "第67個欄位(i.e., var_64) 的缺失值有0筆\n",
            "第68個欄位(i.e., var_65) 的缺失值有0筆\n",
            "第69個欄位(i.e., var_66) 的缺失值有0筆\n",
            "第70個欄位(i.e., var_67) 的缺失值有0筆\n",
            "第71個欄位(i.e., var_68) 的缺失值有0筆\n",
            "第72個欄位(i.e., var_69) 的缺失值有0筆\n",
            "第73個欄位(i.e., var_70) 的缺失值有0筆\n",
            "第74個欄位(i.e., var_71) 的缺失值有0筆\n",
            "第75個欄位(i.e., var_72) 的缺失值有0筆\n",
            "第76個欄位(i.e., var_73) 的缺失值有0筆\n",
            "第77個欄位(i.e., var_74) 的缺失值有0筆\n",
            "第78個欄位(i.e., var_75) 的缺失值有0筆\n",
            "第79個欄位(i.e., var_76) 的缺失值有0筆\n",
            "第80個欄位(i.e., var_77) 的缺失值有0筆\n",
            "第81個欄位(i.e., var_78) 的缺失值有0筆\n",
            "第82個欄位(i.e., var_79) 的缺失值有0筆\n",
            "第83個欄位(i.e., var_80) 的缺失值有0筆\n",
            "第84個欄位(i.e., var_81) 的缺失值有0筆\n",
            "第85個欄位(i.e., var_82) 的缺失值有0筆\n",
            "第86個欄位(i.e., var_83) 的缺失值有0筆\n",
            "第87個欄位(i.e., var_84) 的缺失值有0筆\n",
            "第88個欄位(i.e., var_85) 的缺失值有0筆\n",
            "第89個欄位(i.e., var_86) 的缺失值有0筆\n",
            "第90個欄位(i.e., var_87) 的缺失值有0筆\n",
            "第91個欄位(i.e., var_88) 的缺失值有0筆\n",
            "第92個欄位(i.e., var_89) 的缺失值有0筆\n",
            "第93個欄位(i.e., var_90) 的缺失值有0筆\n",
            "第94個欄位(i.e., var_91) 的缺失值有0筆\n",
            "第95個欄位(i.e., var_92) 的缺失值有0筆\n",
            "第96個欄位(i.e., var_93) 的缺失值有0筆\n",
            "第97個欄位(i.e., var_94) 的缺失值有0筆\n",
            "第98個欄位(i.e., var_95) 的缺失值有0筆\n",
            "第99個欄位(i.e., var_96) 的缺失值有0筆\n",
            "第100個欄位(i.e., var_97) 的缺失值有0筆\n",
            "第101個欄位(i.e., var_98) 的缺失值有0筆\n",
            "第102個欄位(i.e., var_99) 的缺失值有0筆\n",
            "第103個欄位(i.e., var_100) 的缺失值有0筆\n",
            "第104個欄位(i.e., var_101) 的缺失值有0筆\n",
            "第105個欄位(i.e., var_102) 的缺失值有0筆\n",
            "第106個欄位(i.e., var_103) 的缺失值有0筆\n",
            "第107個欄位(i.e., var_104) 的缺失值有0筆\n",
            "第108個欄位(i.e., var_105) 的缺失值有0筆\n",
            "第109個欄位(i.e., var_106) 的缺失值有0筆\n",
            "第110個欄位(i.e., var_107) 的缺失值有0筆\n",
            "第111個欄位(i.e., var_108) 的缺失值有0筆\n",
            "第112個欄位(i.e., var_109) 的缺失值有0筆\n",
            "第113個欄位(i.e., var_110) 的缺失值有0筆\n",
            "第114個欄位(i.e., var_111) 的缺失值有0筆\n",
            "第115個欄位(i.e., var_112) 的缺失值有0筆\n",
            "第116個欄位(i.e., var_113) 的缺失值有0筆\n",
            "第117個欄位(i.e., var_114) 的缺失值有0筆\n",
            "第118個欄位(i.e., var_115) 的缺失值有0筆\n",
            "第119個欄位(i.e., var_116) 的缺失值有0筆\n",
            "第120個欄位(i.e., var_117) 的缺失值有0筆\n",
            "第121個欄位(i.e., var_118) 的缺失值有0筆\n",
            "第122個欄位(i.e., var_119) 的缺失值有0筆\n",
            "第123個欄位(i.e., var_120) 的缺失值有0筆\n",
            "第124個欄位(i.e., var_121) 的缺失值有0筆\n",
            "第125個欄位(i.e., var_122) 的缺失值有0筆\n",
            "第126個欄位(i.e., var_123) 的缺失值有0筆\n",
            "第127個欄位(i.e., var_124) 的缺失值有0筆\n",
            "第128個欄位(i.e., var_125) 的缺失值有0筆\n",
            "第129個欄位(i.e., var_126) 的缺失值有0筆\n",
            "第130個欄位(i.e., var_127) 的缺失值有0筆\n",
            "第131個欄位(i.e., var_128) 的缺失值有0筆\n",
            "第132個欄位(i.e., var_129) 的缺失值有0筆\n",
            "第133個欄位(i.e., var_130) 的缺失值有0筆\n",
            "第134個欄位(i.e., var_131) 的缺失值有0筆\n",
            "第135個欄位(i.e., var_132) 的缺失值有0筆\n",
            "第136個欄位(i.e., var_133) 的缺失值有0筆\n",
            "第137個欄位(i.e., var_134) 的缺失值有0筆\n",
            "第138個欄位(i.e., var_135) 的缺失值有0筆\n",
            "第139個欄位(i.e., var_136) 的缺失值有0筆\n",
            "第140個欄位(i.e., var_137) 的缺失值有0筆\n",
            "第141個欄位(i.e., var_138) 的缺失值有0筆\n",
            "第142個欄位(i.e., var_139) 的缺失值有0筆\n",
            "第143個欄位(i.e., var_140) 的缺失值有0筆\n",
            "第144個欄位(i.e., var_141) 的缺失值有0筆\n",
            "第145個欄位(i.e., var_142) 的缺失值有0筆\n",
            "第146個欄位(i.e., var_143) 的缺失值有0筆\n",
            "第147個欄位(i.e., var_144) 的缺失值有0筆\n",
            "第148個欄位(i.e., var_145) 的缺失值有0筆\n",
            "第149個欄位(i.e., var_146) 的缺失值有0筆\n",
            "第150個欄位(i.e., var_147) 的缺失值有0筆\n",
            "第151個欄位(i.e., var_148) 的缺失值有0筆\n",
            "第152個欄位(i.e., var_149) 的缺失值有0筆\n",
            "第153個欄位(i.e., var_150) 的缺失值有0筆\n",
            "第154個欄位(i.e., var_151) 的缺失值有0筆\n",
            "第155個欄位(i.e., var_152) 的缺失值有0筆\n",
            "第156個欄位(i.e., var_153) 的缺失值有0筆\n",
            "第157個欄位(i.e., var_154) 的缺失值有0筆\n",
            "第158個欄位(i.e., var_155) 的缺失值有0筆\n",
            "第159個欄位(i.e., var_156) 的缺失值有0筆\n",
            "第160個欄位(i.e., var_157) 的缺失值有0筆\n",
            "第161個欄位(i.e., var_158) 的缺失值有0筆\n",
            "第162個欄位(i.e., var_159) 的缺失值有0筆\n",
            "第163個欄位(i.e., var_160) 的缺失值有0筆\n",
            "第164個欄位(i.e., var_161) 的缺失值有0筆\n",
            "第165個欄位(i.e., var_162) 的缺失值有0筆\n",
            "第166個欄位(i.e., var_163) 的缺失值有0筆\n",
            "第167個欄位(i.e., var_164) 的缺失值有0筆\n",
            "第168個欄位(i.e., var_165) 的缺失值有0筆\n",
            "第169個欄位(i.e., var_166) 的缺失值有0筆\n",
            "第170個欄位(i.e., var_167) 的缺失值有0筆\n",
            "第171個欄位(i.e., var_168) 的缺失值有0筆\n",
            "第172個欄位(i.e., var_169) 的缺失值有0筆\n",
            "第173個欄位(i.e., var_170) 的缺失值有0筆\n",
            "第174個欄位(i.e., var_171) 的缺失值有0筆\n",
            "第175個欄位(i.e., var_172) 的缺失值有0筆\n",
            "第176個欄位(i.e., var_173) 的缺失值有0筆\n",
            "第177個欄位(i.e., var_174) 的缺失值有0筆\n",
            "第178個欄位(i.e., var_175) 的缺失值有0筆\n",
            "第179個欄位(i.e., var_176) 的缺失值有0筆\n",
            "第180個欄位(i.e., var_177) 的缺失值有0筆\n",
            "第181個欄位(i.e., var_178) 的缺失值有0筆\n",
            "第182個欄位(i.e., var_179) 的缺失值有0筆\n",
            "第183個欄位(i.e., var_180) 的缺失值有0筆\n",
            "第184個欄位(i.e., var_181) 的缺失值有0筆\n",
            "第185個欄位(i.e., var_182) 的缺失值有0筆\n",
            "第186個欄位(i.e., var_183) 的缺失值有0筆\n",
            "第187個欄位(i.e., var_184) 的缺失值有0筆\n",
            "第188個欄位(i.e., var_185) 的缺失值有0筆\n",
            "第189個欄位(i.e., var_186) 的缺失值有0筆\n",
            "第190個欄位(i.e., var_187) 的缺失值有0筆\n",
            "第191個欄位(i.e., var_188) 的缺失值有0筆\n",
            "第192個欄位(i.e., var_189) 的缺失值有0筆\n",
            "第193個欄位(i.e., var_190) 的缺失值有0筆\n",
            "第194個欄位(i.e., var_191) 的缺失值有0筆\n",
            "第195個欄位(i.e., var_192) 的缺失值有0筆\n",
            "第196個欄位(i.e., var_193) 的缺失值有0筆\n",
            "第197個欄位(i.e., var_194) 的缺失值有0筆\n",
            "第198個欄位(i.e., var_195) 的缺失值有0筆\n",
            "第199個欄位(i.e., var_196) 的缺失值有0筆\n",
            "第200個欄位(i.e., var_197) 的缺失值有0筆\n",
            "第201個欄位(i.e., var_198) 的缺失值有0筆\n",
            "第202個欄位(i.e., var_199) 的缺失值有0筆\n"
          ]
        }
      ]
    },
    {
      "cell_type": "code",
      "source": [
        "# note：plt.hist/plot/pie\n",
        "import matplotlib.pyplot as plt"
      ],
      "metadata": {
        "id": "um02qpDWIIWS"
      },
      "execution_count": null,
      "outputs": []
    },
    {
      "cell_type": "markdown",
      "source": [
        "### (ID_code)"
      ],
      "metadata": {
        "id": "KqBAr3JdHhl1"
      }
    },
    {
      "cell_type": "code",
      "source": [
        "print(Dataset[\"ID_code\"])\n",
        "\n",
        "# need drop\n",
        "Dataset = Dataset.drop([\"ID_code\"], axis=1)"
      ],
      "metadata": {
        "colab": {
          "base_uri": "https://localhost:8080/"
        },
        "id": "gC9vn_CXIDha",
        "outputId": "010f36e6-8a29-420c-9377-d4e3cbb53b0c"
      },
      "execution_count": null,
      "outputs": [
        {
          "output_type": "stream",
          "name": "stdout",
          "text": [
            "0              train_0\n",
            "1              train_1\n",
            "2              train_2\n",
            "3              train_3\n",
            "4              train_4\n",
            "              ...     \n",
            "199995    train_199995\n",
            "199996    train_199996\n",
            "199997    train_199997\n",
            "199998    train_199998\n",
            "199999    train_199999\n",
            "Name: ID_code, Length: 200000, dtype: object\n"
          ]
        }
      ]
    },
    {
      "cell_type": "markdown",
      "source": [
        "### (target)"
      ],
      "metadata": {
        "id": "VBfEvDG0Hkd9"
      }
    },
    {
      "cell_type": "code",
      "source": [
        "# note：Dataset[\"target\"], value_counts()\n",
        "\n",
        "print(Dataset[\"target\"].value_counts())\n",
        "\n",
        "plt.pie(Dataset[\"target\"].value_counts(), labels=[\"0\", \"1\"])\n",
        "plt.show()"
      ],
      "metadata": {
        "colab": {
          "base_uri": "https://localhost:8080/",
          "height": 300
        },
        "id": "FjrqaoPJI633",
        "outputId": "81276bb7-4b5d-4c0b-be2c-c47660b6f70f"
      },
      "execution_count": null,
      "outputs": [
        {
          "output_type": "stream",
          "name": "stdout",
          "text": [
            "0    179902\n",
            "1     20098\n",
            "Name: target, dtype: int64\n"
          ]
        },
        {
          "output_type": "display_data",
          "data": {
            "text/plain": [
              "<Figure size 432x288 with 1 Axes>"
            ],
            "image/png": "[encoded data removed]"
          },
          "metadata": {}
        }
      ]
    },
    {
      "cell_type": "markdown",
      "source": [
        "## Step 3: Identify Numerical and Categorical Features"
      ],
      "metadata": {
        "id": "oqc4hRi1FUHU"
      }
    },
    {
      "cell_type": "code",
      "source": [
        "# note：dtype\n",
        "numerical_attributes = []\n",
        "categorical_attributes = []\n",
        "\n",
        "for col in Dataset.columns:\n",
        "\n",
        "  col_type = Dataset[col].dtype\n",
        "  # print(col_type)\n",
        "\n",
        "  if col_type == \"int64\" or col_type == \"float64\":\n",
        "    numerical_attributes.append(col)\n",
        "\n",
        "  elif col_type == \"object\":\n",
        "    categorical_attributes.append(col)\n",
        "\n",
        "# then doing Feature Scaling later，so remove Y.\n",
        "numerical_attributes.remove(\"target\")\n",
        "  \n",
        "print(f\"數值型的欄位有:{numerical_attributes}\")\n",
        "print(f\"類別型的欄位有{categorical_attributes}\")"
      ],
      "metadata": {
        "colab": {
          "base_uri": "https://localhost:8080/"
        },
        "id": "lNv8_pGmFfL1",
        "outputId": "f19266be-8741-4850-ce00-f275c8a366c8"
      },
      "execution_count": null,
      "outputs": [
        {
          "output_type": "stream",
          "name": "stdout",
          "text": [
            "數值型的欄位有:['var_0', 'var_1', 'var_2', 'var_3', 'var_4', 'var_5', 'var_6', 'var_7', 'var_8', 'var_9', 'var_10', 'var_11', 'var_12', 'var_13', 'var_14', 'var_15', 'var_16', 'var_17', 'var_18', 'var_19', 'var_20', 'var_21', 'var_22', 'var_23', 'var_24', 'var_25', 'var_26', 'var_27', 'var_28', 'var_29', 'var_30', 'var_31', 'var_32', 'var_33', 'var_34', 'var_35', 'var_36', 'var_37', 'var_38', 'var_39', 'var_40', 'var_41', 'var_42', 'var_43', 'var_44', 'var_45', 'var_46', 'var_47', 'var_48', 'var_49', 'var_50', 'var_51', 'var_52', 'var_53', 'var_54', 'var_55', 'var_56', 'var_57', 'var_58', 'var_59', 'var_60', 'var_61', 'var_62', 'var_63', 'var_64', 'var_65', 'var_66', 'var_67', 'var_68', 'var_69', 'var_70', 'var_71', 'var_72', 'var_73', 'var_74', 'var_75', 'var_76', 'var_77', 'var_78', 'var_79', 'var_80', 'var_81', 'var_82', 'var_83', 'var_84', 'var_85', 'var_86', 'var_87', 'var_88', 'var_89', 'var_90', 'var_91', 'var_92', 'var_93', 'var_94', 'var_95', 'var_96', 'var_97', 'var_98', 'var_99', 'var_100', 'var_101', 'var_102', 'var_103', 'var_104', 'var_105', 'var_106', 'var_107', 'var_108', 'var_109', 'var_110', 'var_111', 'var_112', 'var_113', 'var_114', 'var_115', 'var_116', 'var_117', 'var_118', 'var_119', 'var_120', 'var_121', 'var_122', 'var_123', 'var_124', 'var_125', 'var_126', 'var_127', 'var_128', 'var_129', 'var_130', 'var_131', 'var_132', 'var_133', 'var_134', 'var_135', 'var_136', 'var_137', 'var_138', 'var_139', 'var_140', 'var_141', 'var_142', 'var_143', 'var_144', 'var_145', 'var_146', 'var_147', 'var_148', 'var_149', 'var_150', 'var_151', 'var_152', 'var_153', 'var_154', 'var_155', 'var_156', 'var_157', 'var_158', 'var_159', 'var_160', 'var_161', 'var_162', 'var_163', 'var_164', 'var_165', 'var_166', 'var_167', 'var_168', 'var_169', 'var_170', 'var_171', 'var_172', 'var_173', 'var_174', 'var_175', 'var_176', 'var_177', 'var_178', 'var_179', 'var_180', 'var_181', 'var_182', 'var_183', 'var_184', 'var_185', 'var_186', 'var_187', 'var_188', 'var_189', 'var_190', 'var_191', 'var_192', 'var_193', 'var_194', 'var_195', 'var_196', 'var_197', 'var_198', 'var_199']\n",
            "類別型的欄位有[]\n"
          ]
        }
      ]
    },
    {
      "cell_type": "markdown",
      "source": [
        "## Step 4 : Perform One-Hot Encoding\n",
        "But it's all numerical data, no need for this step"
      ],
      "metadata": {
        "id": "5Y0qKqobFfrg"
      }
    },
    {
      "cell_type": "markdown",
      "source": [
        "## Step 5: Perform data segmentation"
      ],
      "metadata": {
        "id": "eiq3FaDoFpS5"
      }
    },
    {
      "cell_type": "code",
      "source": [
        "# note：train_test_split(X, Y, test_size)\n",
        "\n",
        "from sklearn.model_selection import train_test_split\n",
        "\n",
        "Y = Dataset[\"target\"]\n",
        "X= Dataset.drop([\"target\"], axis=1)\n",
        "\n",
        "X_train, X_dev, Y_train, Y_dev = train_test_split(X, Y, test_size=0.2)\n",
        "\n",
        "print(f\"訓練資料集(X) {X_train.shape}\")\n",
        "print(f\"訓練資料集(Y) {Y_train.shape}\")\n",
        "print(f\"驗證(/開發)資料集(X) {X_dev.shape}\")\n",
        "print(f\"驗證(/開發)資料集(Y) {Y_dev.shape}\")"
      ],
      "metadata": {
        "colab": {
          "base_uri": "https://localhost:8080/"
        },
        "id": "-BdZAsXVM2gh",
        "outputId": "d1e86ec8-6be9-45e4-9671-067c48f250a2"
      },
      "execution_count": null,
      "outputs": [
        {
          "output_type": "stream",
          "name": "stdout",
          "text": [
            "訓練資料集(X) (160000, 200)\n",
            "訓練資料集(Y) (160000,)\n",
            "驗證(/開發)資料集(X) (40000, 200)\n",
            "驗證(/開發)資料集(Y) (40000,)\n"
          ]
        }
      ]
    },
    {
      "cell_type": "markdown",
      "source": [
        "## Step 6: Perform Feature Scaling"
      ],
      "metadata": {
        "id": "RVkB09iVFjnk"
      }
    },
    {
      "cell_type": "code",
      "source": [
        "from sklearn.preprocessing import StandardScaler\n",
        "\n",
        "X_train_numerical = X_train[numerical_attributes]\n",
        "X_dev_numerical = X_dev[numerical_attributes]\n",
        "\n",
        "# fit\n",
        "x_scaler = StandardScaler().fit(X_train_numerical)\n",
        "\n",
        "# Use the scaler to transform the training dataset and the validation dataset\n",
        "X_train_trans = x_scaler.transform(X_train_numerical)\n",
        "X_dev_trans = x_scaler.transform(X_dev_numerical)\n",
        "\n",
        "# Override the field\n",
        "X_train[numerical_attributes] = X_train_trans\n",
        "X_dev[numerical_attributes] = X_dev_trans\n"
      ],
      "metadata": {
        "id": "DxlAKjmBFmh2"
      },
      "execution_count": null,
      "outputs": []
    },
    {
      "cell_type": "markdown",
      "source": [
        "## Step 7: Fit RandomForest model"
      ],
      "metadata": {
        "id": "GgUc4RJrFuJk"
      }
    },
    {
      "cell_type": "code",
      "source": [
        "from sklearn.ensemble import RandomForestClassifier\n",
        "from time import time\n",
        "\n",
        "RF_Algorithm = RandomForestClassifier(n_estimators=100)\n",
        "tic = time()\n",
        "RF_Model = RF_Algorithm.fit(X_train, Y_train)\n",
        "toc = time()\n",
        "print(f\"擬合過程所花費時間為 {round(toc-tic)} (sec))\")"
      ],
      "metadata": {
        "id": "nJSV_uVgQY3l",
        "colab": {
          "base_uri": "https://localhost:8080/"
        },
        "outputId": "cb5fcfb6-aa4b-442b-eeb8-b2c9c539ad0a"
      },
      "execution_count": null,
      "outputs": [
        {
          "output_type": "stream",
          "name": "stdout",
          "text": [
            "擬合過程所花費時間為 961 (sec))\n"
          ]
        }
      ]
    },
    {
      "cell_type": "markdown",
      "source": [
        "## Step 8: Predict and evaluate"
      ],
      "metadata": {
        "id": "Cbmz3qCRF0RN"
      }
    },
    {
      "cell_type": "code",
      "source": [
        "# note：predict, accuracy_score(Y_true, Prediction), f1_score(Y_true, Prediction)\n",
        "\n",
        "from sklearn.metrics import accuracy_score, f1_score\n",
        "\n",
        "# predict\n",
        "tic = time()\n",
        "RF_Predictions = RF_Model.predict(X_dev)\n",
        "toc = time()\n",
        "print(f\"預測「類別」所花費時間為 {round(toc-tic)} (sec)\")\n",
        "\n",
        "print(f\"準確率(Accuracy)為：{round(accuracy_score(Y_dev, RF_Predictions)*100, 2)} %\")\n",
        "print(f\"F1分數(F1-Score): {round(f1_score(Y_dev, RF_Predictions, pos_label=1)*100, 2)} %\")\n",
        "\n",
        "# note：\n",
        "# Executing this code will find that the F1 Score is extremely low, while the Accuracy is about 90%\n",
        "# The reason is that the Dataset itself is unbalanced (Imbalanced), most of the data are negative,\n",
        "# Therefore, the judgment cannot simply use RF_Predictions (use the default Threshold = 0.5 to obtain the judgment result)\n",
        "# Need to set Threshold by yourself"
      ],
      "metadata": {
        "colab": {
          "base_uri": "https://localhost:8080/"
        },
        "id": "xy8pfZARF4c5",
        "outputId": "609f1e6e-321b-440c-a28d-554cea876439"
      },
      "execution_count": null,
      "outputs": [
        {
          "output_type": "stream",
          "name": "stdout",
          "text": [
            "預測「類別」所花費時間為 3 (sec)\n",
            "準確率(Accuracy)為：90.04 %\n",
            "F1分數(F1-Score): 0.05 %\n"
          ]
        }
      ]
    },
    {
      "cell_type": "code",
      "source": [
        "Threshold = 0.2\n",
        "print(f\"將 Threshold 調整成 {Threshold} (大於此值為陽性 1 ，反之為陰性 0 )\\n\")"
      ],
      "metadata": {
        "id": "faDFmn0km84I",
        "colab": {
          "base_uri": "https://localhost:8080/"
        },
        "outputId": "db09561d-f654-4162-e41d-4204f1a3d7e8"
      },
      "execution_count": null,
      "outputs": [
        {
          "output_type": "stream",
          "name": "stdout",
          "text": [
            "將 Threshold 調整成 0.2 (大於此值為陽性 1 ，反之為陰性 0 )\n",
            "\n"
          ]
        }
      ]
    },
    {
      "cell_type": "code",
      "source": [
        "# note：(Postive_Probability > Threshold).astype(int)\n",
        "# predict\n",
        "tic = time()\n",
        "RF_Predictions_Proba = RF_Model.predict_proba(X_dev)\n",
        "toc = time()\n",
        "print(f\"預測「機率」所花費時間為 {round(toc-tic)} (sec)\\n\")\n",
        "\n",
        "# Take out the probability of being predicted to be positive\n",
        "RF_Positive_Proba = RF_Predictions_Proba[:,1]\n",
        "RF_Decision = (RF_Positive_Proba > Threshold).astype(int)\n",
        "\n",
        "print(f\"準確率(Accuracy)為：{round(accuracy_score(Y_dev, RF_Decision)*100, 2)} %\")\n",
        "print(f\"F1分數(F1-Score): {round(f1_score(Y_dev, RF_Decision, pos_label=1)*100, 2)} %\")"
      ],
      "metadata": {
        "id": "kTGtgT6Am9PE",
        "colab": {
          "base_uri": "https://localhost:8080/"
        },
        "outputId": "c7989389-ff62-4e8d-c432-96b5ef5e5b91"
      },
      "execution_count": null,
      "outputs": [
        {
          "output_type": "stream",
          "name": "stdout",
          "text": [
            "預測「機率」所花費時間為 3 (sec)\n",
            "\n",
            "準確率(Accuracy)為：88.4 %\n",
            "F1分數(F1-Score): 43.38 %\n"
          ]
        }
      ]
    }
  ]
}